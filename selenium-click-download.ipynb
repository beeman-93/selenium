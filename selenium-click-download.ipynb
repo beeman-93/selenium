{
 "cells": [
  {
   "cell_type": "code",
   "execution_count": 27,
   "id": "c665c828",
   "metadata": {},
   "outputs": [],
   "source": [
    "#imports here\n",
    "from selenium import webdriver\n",
    "from selenium.webdriver.common.by import By\n",
    "from selenium.webdriver.chrome import service as fs\n",
    "import time\n",
    "from time import sleep"
   ]
  },
  {
   "cell_type": "code",
   "execution_count": 28,
   "id": "53f16320",
   "metadata": {},
   "outputs": [],
   "source": [
    "#download files to a specific folder\n",
    "options = webdriver.ChromeOptions() \n",
    "prefs = {\"download.default_directory\" : \"/Users/danmengcai/Desktop/Folders/PyPractice/finance_data\"}\n",
    "options.add_experimental_option(\"prefs\",prefs)"
   ]
  },
  {
   "cell_type": "code",
   "execution_count": 29,
   "id": "c0b3aa6a",
   "metadata": {},
   "outputs": [],
   "source": [
    "CHROMEDRIVER = \"./chromedriver\""
   ]
  },
  {
   "cell_type": "code",
   "execution_count": 35,
   "id": "8b1ef30f",
   "metadata": {},
   "outputs": [],
   "source": [
    "#open Chrome\n",
    "chrome_service = fs.Service(executable_path=CHROMEDRIVER)\n",
    "driver = webdriver.Chrome(service=chrome_service,options=options)"
   ]
  },
  {
   "cell_type": "code",
   "execution_count": 36,
   "id": "e195c9a1",
   "metadata": {},
   "outputs": [],
   "source": [
    "#access jpx website \n",
    "driver.get('https://www.jpx.co.jp/markets/statistics-equities/misc/01.html')\n",
    "\n",
    "#find links that contain data\n",
    "links = driver.find_elements(By.XPATH,\"//a[contains(@href,'data_j.xls') or contains(@href,'data_j.zip') or contains(@href,'jyoujyou(updated)_j.xlsx') ]\")\n",
    "\n",
    "#click the links using a for loop\n",
    "for link in links:\n",
    "    driver.execute_script(\"arguments[0].click();\",link)\n",
    "    time.sleep(2)\n",
    "\n",
    "driver.close()\n",
    "\n",
    "\n",
    "\n"
   ]
  },
  {
   "cell_type": "code",
   "execution_count": null,
   "id": "0fd5c483",
   "metadata": {},
   "outputs": [],
   "source": []
  }
 ],
 "metadata": {
  "kernelspec": {
   "display_name": "Python 3 (ipykernel)",
   "language": "python",
   "name": "python3"
  },
  "language_info": {
   "codemirror_mode": {
    "name": "ipython",
    "version": 3
   },
   "file_extension": ".py",
   "mimetype": "text/x-python",
   "name": "python",
   "nbconvert_exporter": "python",
   "pygments_lexer": "ipython3",
   "version": "3.8.13"
  }
 },
 "nbformat": 4,
 "nbformat_minor": 5
}
